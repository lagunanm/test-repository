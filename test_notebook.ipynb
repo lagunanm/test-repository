{
  "nbformat": 4,
  "nbformat_minor": 0,
  "metadata": {
    "colab": {
      "name": "test-notebook.ipynb",
      "provenance": [],
      "authorship_tag": "ABX9TyNQW7DDIp8D4ygK3RFJnoKv",
      "include_colab_link": true
    },
    "kernelspec": {
      "name": "python3",
      "display_name": "Python 3"
    }
  },
  "cells": [
    {
      "cell_type": "markdown",
      "metadata": {
        "id": "view-in-github",
        "colab_type": "text"
      },
      "source": [
        "<a href=\"https://colab.research.google.com/github/lagunanm/test-repository/blob/master/test_notebook.ipynb\" target=\"_parent\"><img src=\"https://colab.research.google.com/assets/colab-badge.svg\" alt=\"Open In Colab\"/></a>"
      ]
    },
    {
      "cell_type": "code",
      "metadata": {
        "id": "16F1YepBJ0aK",
        "colab_type": "code",
        "colab": {}
      },
      "source": [
        "this is test notebook to show how to save Google colab notebooks to Github.\n",
        "\n",
        "This is an addition to this notebook."
      ],
      "execution_count": null,
      "outputs": []
    }
  ]
}